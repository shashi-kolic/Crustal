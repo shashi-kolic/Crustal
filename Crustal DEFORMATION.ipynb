{
  "nbformat": 4,
  "nbformat_minor": 0,
  "metadata": {
    "kernelspec": {
      "display_name": "Python 3",
      "language": "python",
      "name": "python3"
    },
    "language_info": {
      "codemirror_mode": {
        "name": "ipython",
        "version": 3
      },
      "file_extension": ".py",
      "mimetype": "text/x-python",
      "name": "python",
      "nbconvert_exporter": "python",
      "pygments_lexer": "ipython3",
      "version": "3.7.6"
    },
    "colab": {
      "name": "V_3.ipynb",
      "provenance": []
    }
  },
  "cells": [
    {
      "cell_type": "code",
      "metadata": {
        "id": "040AYmcXEDia",
        "colab_type": "code",
        "colab": {}
      },
      "source": [
        "import numpy as np\n",
        "import pandas as pd\n",
        "import matplotlib.pyplot as plt\n",
        "import seaborn as sns\n",
        "sns.set(style='darkgrid')\n",
        "\n",
        "from numpy.linalg import inv\n",
        "from sklearn.metrics import r2_score as r2\n",
        "from sklearn.metrics import mean_squared_error as mse"
      ],
      "execution_count": null,
      "outputs": []
    },
    {
      "cell_type": "code",
      "metadata": {
        "id": "NCEPqMWwEDif",
        "colab_type": "code",
        "colab": {}
      },
      "source": [
        "''' \n",
        "    Returns the Sine of the input\n",
        "'''\n",
        "def sin(x):\n",
        "    return np.sin(x*(np.pi/180))\n",
        "\n",
        "\n",
        "'''\n",
        "    Returns the Cosine of the input\n",
        "'''\n",
        "def cos(x):\n",
        "    return np.cos(x*(np.pi/180))\n",
        "\n",
        "'''\n",
        "    Returns the Mean of the given input.\n",
        "'''\n",
        "def mean(x):\n",
        "    return np.mean(x)\n",
        "\n",
        "\n",
        "\n",
        "def kernel_1(r, Lat, Long):\n",
        "    lat_0 = mean(Lat)\n",
        "    long_0 = mean(Long)\n",
        "    output = np.array([])\n",
        "    for i in range(0,len(Lat)):\n",
        "        lat = Lat[i]\n",
        "        long = Long[i]\n",
        "        output = np.append(output,(-1*r*sin(lat)*cos(long)))\n",
        "        output = np.append(output,(-1*r*sin(lat)*sin(long)))\n",
        "        output = np.append(output,(r*cos(lat)))\n",
        "        output = np.append(output,(r*(long-long_0)*cos(lat)))\n",
        "        output = np.append(output,(r*(lat-lat_0)))\n",
        "        output = np.append(output,0)\n",
        "\n",
        "        t1 = r*r*cos(lat)*cos(lat)*(long-long_0)*(long-long_0)\n",
        "        t2 = r*r*(lat-lat_0)*(lat-lat_0)\n",
        "        t3 = r*r*cos(lat)*(long-long_0)*(lat-lat_0)\n",
        "        output = np.append(output,t1)\n",
        "        output = np.append(output,t2)\n",
        "        output = np.append(output,t3)\n",
        "        output = np.append(output,0)\n",
        "        output = np.append(output,0)\n",
        "        output = np.append(output,0)\n",
        "        \n",
        "    output = output.reshape(len(Lat),12)\n",
        "    return output\n",
        "\n",
        "def kernel_2(r, lat, long):\n",
        "    output = np.array([])\n",
        "    lat_0 = mean(Lat)\n",
        "    long_0 = mean(Long)\n",
        "    output = np.array([])\n",
        "    for i in range(0,len(Lat)):\n",
        "        lat = Lat[i]\n",
        "        long = Long[i]\n",
        "        output = np.append(output,(r*sin(long)))\n",
        "        output = np.append(output,(-1*r*cos(long)))\n",
        "        output = np.append(output,0)\n",
        "        output = np.append(output,0)\n",
        "        output = np.append(output,(r*(long-long_0)*cos(lat)))\n",
        "        output = np.append(output,(r*(lat-lat_0)))\n",
        "\n",
        "        t1 = r*r*cos(lat)*cos(lat)*(long-long_0)*(long-long_0)\n",
        "        t2 = r*r*(lat-lat_0)*(lat-lat_0)\n",
        "        t3 = r*r*cos(lat)*(long-long_0)*(lat-lat_0)\n",
        "\n",
        "        output = np.append(output,0)\n",
        "        output = np.append(output,0)\n",
        "        output = np.append(output,0)\n",
        "        output = np.append(output,t1)\n",
        "        output = np.append(output,t2)\n",
        "        output = np.append(output,t3)\n",
        "    \n",
        "    output = output.reshape(len(Lat),12)\n",
        "    return output\n",
        "\n",
        "\n",
        "\n",
        "def Data_kernel(r,Lat, Long):\n",
        "    n = len(Lat)\n",
        "    G = np.empty((2*n,12))\n",
        "    k1 = kernel_1(r,Lat, Long)\n",
        "    k2 = kernel_2(r,Lat, Long)\n",
        "    for i in range(0,n):\n",
        "        G[2*i] = k1[i]\n",
        "        G[2*i+1] = k2[i]\n",
        "    return G\n",
        "\n",
        "\n",
        "def velocity(V_e,V_n):\n",
        "    V = np.array([])\n",
        "    for i in range(0,len(V_e)):\n",
        "        temp1 = float(V_e[i])\n",
        "        temp2 = float(V_n[i])\n",
        "        V = np.append(V,temp1)\n",
        "        V = np.append(V,temp2)\n",
        "    return V\n",
        "\n",
        "def score(true_value,predicted_value):\n",
        "    print(\"Mean Squared Error: \", mse(true_value,predicted_value))\n",
        "    print(\"R2 Score: \",r2(true_value,predicted_value))\n",
        "    return 0\n",
        "\n",
        "def strain_e(A_0,B_0,C_0,e_1,e_2,e_3,l_1,l_2,l_3,x,y):\n",
        "    output = A_0+e_1*x+e_3*y\n",
        "    return output\n",
        "\n",
        "\n",
        "def strain_n(A_0,B_0,C_0,e_1,e_2,e_3,l_1,l_2,l_3,x,y):\n",
        "    output = C_0+l_2*y+l_3*x\n",
        "    return output\n",
        "\n",
        "\n",
        "def strain_en(A_0,B_0,C_0,e_1,e_2,e_3,l_1,l_2,l_3,x,y):\n",
        "    t1 = B_0+e_2*y+e_3*x\n",
        "    t2 = B_0+l_1*x+l_3*y\n",
        "    output = (t1+t2)/2\n",
        "    return output\n",
        "\n",
        "def model_params(reg_coef):\n",
        "    # Model Parameters\n",
        "\n",
        "    w_x = reg_coef[0]\n",
        "    w_y = reg_coef[1]\n",
        "    w_z = reg_coef[2]\n",
        "    A_0 = reg_coef[3]\n",
        "    B_0 = reg_coef[4]\n",
        "    C_0 = reg_coef[5]\n",
        "    e_1 = reg_coef[6]\n",
        "    e_2 = reg_coef[7]\n",
        "    e_3 = reg_coef[8]\n",
        "    l_1 = reg_coef[9]\n",
        "    l_2 = reg_coef[10]\n",
        "    l_3 = reg_coef[11]\n",
        "    \n",
        "    # Euler Vector\n",
        "    print(\"X-Component of Euler Vector: \",w_x)\n",
        "    print(\"Y-Component of Euler Vector: \",w_y)\n",
        "    print(\"Z-Component of Euler Vector: \",w_z,\"\\n\")\n",
        "    \n",
        "    #Strain Parameters\n",
        "    print(\"North Component of Strain Parameter: \",A_0)\n",
        "    print(\"North-East Component of Strain Parameter: \",B_0)\n",
        "    print(\"East Component of Strain Parameter: \",C_0,\"\\n\")\n",
        "    \n",
        "    # Strain Parameters due to Variable Strain\n",
        "    print(\"E1-Component of Strain Parameter: \",e_1)\n",
        "    print(\"E2-Component of Strain Parameter: \",e_2)\n",
        "    print(\"E3-Component of Strain Parameter: \",e_3,\"\\n\")\n",
        "    \n",
        "    print(\"L1-Component of Strain Parameter: \",l_1)\n",
        "    print(\"L2-Component of Strain Parameter: \",l_2)\n",
        "    print(\"L3-Component of Strain Parameter: \",l_3)\n",
        "    \n",
        "    return \"Model Parameters\""
      ],
      "execution_count": null,
      "outputs": []
    },
    {
      "cell_type": "code",
      "metadata": {
        "id": "__j41JABEDii",
        "colab_type": "code",
        "colab": {}
      },
      "source": [
        "data = pd.read_csv('velocity.csv')\n",
        "site = data.iloc[0:81,6]\n",
        "Long = data.iloc[0:81,5]\n",
        "V_e = data.iloc[0:81,3]\n",
        "Lat = data.iloc[0:81,2]\n",
        "V_n = data.iloc[0:81,0]"
      ],
      "execution_count": null,
      "outputs": []
    },
    {
      "cell_type": "code",
      "metadata": {
        "id": "Oa2UBeoQEDio",
        "colab_type": "code",
        "colab": {},
        "outputId": "1ff53e5b-0f6e-4a29-c7b1-8b956b6de5a1"
      },
      "source": [
        "plt.figure(figsize = (10,10))\n",
        "plt.quiver(Long,Lat,V_e,V_n,width=0.001)\n",
        "plt.show()"
      ],
      "execution_count": null,
      "outputs": [
        {
          "output_type": "display_data",
          "data": {
            "image/png": "[encoded data removed]",
            "text/plain": [
              "<Figure size 720x720 with 1 Axes>"
            ]
          },
          "metadata": {
            "tags": []
          }
        }
      ]
    },
    {
      "cell_type": "code",
      "metadata": {
        "id": "g69AWv4bEDir",
        "colab_type": "code",
        "colab": {}
      },
      "source": [
        "V = velocity(V_e,V_n)/1e6\n",
        "for i in range(0,len(V)):\n",
        "    temp = V[i]\n",
        "    V[i] = float(temp)\n",
        "    "
      ],
      "execution_count": null,
      "outputs": []
    },
    {
      "cell_type": "code",
      "metadata": {
        "id": "Fisa12yNEDit",
        "colab_type": "code",
        "colab": {}
      },
      "source": [
        "r = 6371 \n",
        "G = Data_kernel(r,Lat, Long)"
      ],
      "execution_count": null,
      "outputs": []
    },
    {
      "cell_type": "code",
      "metadata": {
        "id": "AIWZL8fNEDiw",
        "colab_type": "code",
        "colab": {}
      },
      "source": [
        "# Inversion\n",
        "param = inv(G.T @ G)@ G.T @ V\n",
        "V_pred = G @ param"
      ],
      "execution_count": null,
      "outputs": []
    },
    {
      "cell_type": "code",
      "metadata": {
        "id": "S0K2lXqZEDiz",
        "colab_type": "code",
        "colab": {},
        "outputId": "5deb7a9f-00e2-48fe-e1e3-73e08de1cb1e"
      },
      "source": [
        "score(V,V_pred)"
      ],
      "execution_count": null,
      "outputs": [
        {
          "output_type": "stream",
          "text": [
            "Mean Squared Error:  3.430503725027062e-12\n",
            "R2 Score:  0.8851430561077084\n"
          ],
          "name": "stdout"
        },
        {
          "output_type": "execute_result",
          "data": {
            "text/plain": [
              "0"
            ]
          },
          "metadata": {
            "tags": []
          },
          "execution_count": 9
        }
      ]
    },
    {
      "cell_type": "code",
      "metadata": {
        "id": "o0taSP_aEDi2",
        "colab_type": "code",
        "colab": {},
        "outputId": "edc30c6a-3865-4848-eb32-1f46c25829cf"
      },
      "source": [
        "model_params(param)"
      ],
      "execution_count": null,
      "outputs": [
        {
          "output_type": "stream",
          "text": [
            "X-Component of Euler Vector:  4.895687462019434e-09\n",
            "Y-Component of Euler Vector:  -1.0672236660885387e-08\n",
            "Z-Component of Euler Vector:  4.4933493170142654e-10 \n",
            "\n",
            "North Component of Strain Parameter:  1.465934360745206e-10\n",
            "North-East Component of Strain Parameter:  -6.725467235844596e-11\n",
            "East Component of Strain Parameter:  -7.078913473400914e-10 \n",
            "\n",
            "E1-Component of Strain Parameter:  2.019156622492308e-14\n",
            "E2-Component of Strain Parameter:  3.3350011823410806e-14\n",
            "E3-Component of Strain Parameter:  8.978413124435998e-15 \n",
            "\n",
            "L1-Component of Strain Parameter:  -1.4498823931064066e-14\n",
            "L2-Component of Strain Parameter:  -4.043732821155021e-14\n",
            "L3-Component of Strain Parameter:  -5.29357287923817e-14\n"
          ],
          "name": "stdout"
        },
        {
          "output_type": "execute_result",
          "data": {
            "text/plain": [
              "'Model Parameters'"
            ]
          },
          "metadata": {
            "tags": []
          },
          "execution_count": 10
        }
      ]
    },
    {
      "cell_type": "markdown",
      "metadata": {
        "id": "WKZSmBJHEDi4",
        "colab_type": "text"
      },
      "source": [
        "# Optimisation\n"
      ]
    },
    {
      "cell_type": "code",
      "metadata": {
        "id": "hgykKPKDEDi5",
        "colab_type": "code",
        "colab": {}
      },
      "source": [
        "count = 0\n",
        "while(count == 0):\n",
        "    count = 1\n",
        "    V = pd.DataFrame(V)\n",
        "    V = V.iloc[:,0]\n",
        "    V_pred = pd.DataFrame(V_pred)\n",
        "    V_pred = V_pred.iloc[:,0]\n",
        "    error = V - V_pred\n",
        "    #error = pd.DataFrame(error)\n",
        "    # 2-Sigma Tolerance\n",
        "    tol_1 = (np.mean(error)+2*np.std(error))\n",
        "    tol_2 = (np.mean(error)-2*np.std(error))\n",
        "    \n",
        "    max_error = error.max()\n",
        "\n",
        "    if((max_error < tol_2) or (max_error > tol_1)):\n",
        "        count = 0\n",
        "        # To find the index of the outlier\n",
        "        for i in range(0,len(error)):\n",
        "            temp = error[i]\n",
        "            if(max_error == temp):\n",
        "                max_idx = i\n",
        "        if(max_idx%2 == 0):\n",
        "            idx = max_idx\n",
        "            V.pop(idx)\n",
        "            V.pop(idx+1)\n",
        "            Lat.pop(int(idx/2))\n",
        "            Long.pop(int(idx/2))\n",
        "            site.pop(int(idx/2))\n",
        "            \n",
        "        if(max_idx%2 == 1):\n",
        "            idx = max_idx\n",
        "            V.pop(idx)\n",
        "            V.pop(idx-1)\n",
        "            t=int(np.floor(idx/2))\n",
        "            Lat.pop(t)\n",
        "            Long.pop(t)\n",
        "            site.pop(t)\n",
        "            \n",
        "        V = pd.DataFrame(V)\n",
        "        V = pd.DataFrame.reset_index(V)\n",
        "        V = V.iloc[:,1]\n",
        "        Lat = pd.DataFrame(Lat)\n",
        "        Lat = pd.DataFrame.reset_index(Lat)\n",
        "        Lat = Lat.iloc[:,1]\n",
        "        Long = pd.DataFrame(Long)\n",
        "        Long = pd.DataFrame.reset_index(Long)\n",
        "        Long = Long.iloc[:,1]\n",
        "        site = pd.DataFrame(site)\n",
        "        site = pd.DataFrame.reset_index(site)\n",
        "        site = site.iloc[:,1]\n",
        "        \n",
        "        #Create Design Matrix\n",
        "        r = 6371\n",
        "        G = Data_kernel(r,Long,Lat)\n",
        "        \n",
        "        # Run Regression & Get Prediction\n",
        "        param = inv(G.T @ G)@ G.T @ V\n",
        "        V_pred = G @ param\n",
        "        \n",
        "        "
      ],
      "execution_count": null,
      "outputs": []
    },
    {
      "cell_type": "code",
      "metadata": {
        "id": "zLuuOK4DEDi7",
        "colab_type": "code",
        "colab": {}
      },
      "source": [
        "param = inv(G.T @ G)@ G.T @ V\n",
        "V_pred = G @ param"
      ],
      "execution_count": null,
      "outputs": []
    },
    {
      "cell_type": "code",
      "metadata": {
        "id": "Vkz1fhh7EDi-",
        "colab_type": "code",
        "colab": {},
        "outputId": "c1159a0f-ebe5-446d-bbcf-76cddcf3d718"
      },
      "source": [
        "score(V,V_pred)"
      ],
      "execution_count": null,
      "outputs": [
        {
          "output_type": "stream",
          "text": [
            "Mean Squared Error:  3.430503725027062e-12\n",
            "R2 Score:  0.8851430561077084\n"
          ],
          "name": "stdout"
        },
        {
          "output_type": "execute_result",
          "data": {
            "text/plain": [
              "0"
            ]
          },
          "metadata": {
            "tags": []
          },
          "execution_count": 13
        }
      ]
    },
    {
      "cell_type": "code",
      "metadata": {
        "id": "ARg9ZfsDEDjA",
        "colab_type": "code",
        "colab": {},
        "outputId": "3498accd-cd1e-48ba-d77b-f6e69bf58d6c"
      },
      "source": [
        "model_params(param)"
      ],
      "execution_count": null,
      "outputs": [
        {
          "output_type": "stream",
          "text": [
            "X-Component of Euler Vector:  4.895687462019434e-09\n",
            "Y-Component of Euler Vector:  -1.0672236660885387e-08\n",
            "Z-Component of Euler Vector:  4.4933493170142654e-10 \n",
            "\n",
            "North Component of Strain Parameter:  1.465934360745206e-10\n",
            "North-East Component of Strain Parameter:  -6.725467235844596e-11\n",
            "East Component of Strain Parameter:  -7.078913473400914e-10 \n",
            "\n",
            "E1-Component of Strain Parameter:  2.019156622492308e-14\n",
            "E2-Component of Strain Parameter:  3.3350011823410806e-14\n",
            "E3-Component of Strain Parameter:  8.978413124435998e-15 \n",
            "\n",
            "L1-Component of Strain Parameter:  -1.4498823931064066e-14\n",
            "L2-Component of Strain Parameter:  -4.043732821155021e-14\n",
            "L3-Component of Strain Parameter:  -5.29357287923817e-14\n"
          ],
          "name": "stdout"
        },
        {
          "output_type": "execute_result",
          "data": {
            "text/plain": [
              "'Model Parameters'"
            ]
          },
          "metadata": {
            "tags": []
          },
          "execution_count": 14
        }
      ]
    },
    {
      "cell_type": "code",
      "metadata": {
        "id": "IQWxPvzCEDjD",
        "colab_type": "code",
        "colab": {}
      },
      "source": [
        "V_e = np.empty(8)\n",
        "V_n = np.empty(8)\n",
        "for i in range(0,8):\n",
        "    V_e[i] = V[2*i]\n",
        "    V_n[i] = V[2*i+1]  \n"
      ],
      "execution_count": null,
      "outputs": []
    },
    {
      "cell_type": "code",
      "metadata": {
        "id": "4sm1Y61iEDjF",
        "colab_type": "code",
        "colab": {},
        "outputId": "5a700ef0-2876-4613-ace4-7a89422945ea"
      },
      "source": [
        "plt.figure(figsize = (10,10))\n",
        "plt.quiver(Long,Lat,V_e,V_n,width=0.001)\n",
        "plt.show()"
      ],
      "execution_count": null,
      "outputs": [
        {
          "output_type": "display_data",
          "data": {
            "image/png": "[encoded data removed]",
            "text/plain": [
              "<Figure size 720x720 with 1 Axes>"
            ]
          },
          "metadata": {
            "tags": []
          }
        }
      ]
    },
    {
      "cell_type": "code",
      "metadata": {
        "id": "WAg7V6taEDjH",
        "colab_type": "code",
        "colab": {},
        "outputId": "d9820120-0277-445a-afa4-2c556211e914"
      },
      "source": [
        "score(V,V_pred)"
      ],
      "execution_count": null,
      "outputs": [
        {
          "output_type": "stream",
          "text": [
            "Mean Squared Error:  3.430503725027062e-12\n",
            "R2 Score:  0.8851430561077084\n"
          ],
          "name": "stdout"
        },
        {
          "output_type": "execute_result",
          "data": {
            "text/plain": [
              "0"
            ]
          },
          "metadata": {
            "tags": []
          },
          "execution_count": 17
        }
      ]
    },
    {
      "cell_type": "code",
      "metadata": {
        "id": "XgAFMAqfEDjO",
        "colab_type": "code",
        "colab": {}
      },
      "source": [
        "w_x = param[0]\n",
        "w_y = param[1]\n",
        "w_z = param[2]\n",
        "A_0 = param[3]\n",
        "B_0 = param[4]\n",
        "C_0 = param[5]\n",
        "e_1 = param[6]\n",
        "e_2 = param[7]\n",
        "e_3 = param[8]\n",
        "l_1 = param[9]\n",
        "l_2 = param[10]\n",
        "l_3 = param[11]\n",
        "\n",
        "r = 6371 #in Km\n",
        "lat_0 = mean(Lat)\n",
        "long_0 = mean(Long)\n",
        "x = r*cos(Lat)*(Long-long_0)\n",
        "y = r*(Lat-lat_0)"
      ],
      "execution_count": null,
      "outputs": []
    },
    {
      "cell_type": "code",
      "metadata": {
        "id": "v3flwUSsEDjR",
        "colab_type": "code",
        "colab": {}
      },
      "source": [
        "strain_east=strain_e(A_0,B_0,C_0,e_1,e_2,e_3,l_1,l_2,l_3,x,y)*1e9\n",
        "\n",
        "strain_north=strain_n(A_0,B_0,C_0,e_1,e_2,e_3,l_1,l_2,l_3,x,y)*1e9\n",
        "\n",
        "strain_east_north=strain_en(A_0,B_0,C_0,e_1,e_2,e_3,l_1,l_2,l_3,x,y)*1e9\n",
        "\n",
        "dilation= strain_north+strain_east\n",
        "\n",
        "shear_strain_rate = np.sqrt(strain_east_north**2+((strain_east-strain_north)**2)/4)\n",
        "\n",
        "angle_1 = (np.arctan((2*strain_east_north)/(strain_east-strain_north))/2)*(180/np.pi) + 45\n",
        "angle_2 = (np.arctan((2*strain_east_north)/(strain_east-strain_north))/2)*(180/np.pi) - 45\n",
        "#tan_angle = np.tan((np.pi*angle)/180)\n",
        "\n",
        "azimuth = 90-(np.arctan(V_n/V_e)*(180/np.pi))\n",
        "\n",
        "scaled_mag = np.sqrt(V_e**2+V_n**2)/20 #Scaled by 20"
      ],
      "execution_count": null,
      "outputs": []
    },
    {
      "cell_type": "code",
      "metadata": {
        "id": "3LRQV3ZLEDjT",
        "colab_type": "code",
        "colab": {},
        "outputId": "e3ee2e67-e1ff-44c0-fae1-4f9568fe1ae0"
      },
      "source": [
        "shear_strain_rate #in 10^-9"
      ],
      "execution_count": null,
      "outputs": [
        {
          "output_type": "execute_result",
          "data": {
            "text/plain": [
              "0    1.004043\n",
              "1    0.780301\n",
              "2    0.606079\n",
              "3    0.680188\n",
              "4    0.230940\n",
              "5    0.157099\n",
              "6    0.425256\n",
              "7    0.177625\n",
              "dtype: float64"
            ]
          },
          "metadata": {
            "tags": []
          },
          "execution_count": 20
        }
      ]
    },
    {
      "cell_type": "code",
      "metadata": {
        "id": "5hRXLJONEDjV",
        "colab_type": "code",
        "colab": {}
      },
      "source": [
        "strain_east = pd.DataFrame(strain_east)\n",
        "\n",
        "strain_north = pd.DataFrame(strain_north)\n",
        "\n",
        "strain_east_north = pd.DataFrame(strain_east_north)\n",
        "\n",
        "dilation = pd.DataFrame(dilation)\n",
        "\n",
        "shear_strain_rate = pd.DataFrame(shear_strain_rate)\n",
        "\n",
        "azimuth = pd.DataFrame(azimuth)\n",
        "\n",
        "scaled_mag = pd.DataFrame(scaled_mag)"
      ],
      "execution_count": null,
      "outputs": []
    },
    {
      "cell_type": "code",
      "metadata": {
        "id": "ZiNrwMJZEDjX",
        "colab_type": "code",
        "colab": {}
      },
      "source": [
        "site_loc = pd.concat([Long, Lat],axis=1)\n",
        "site_loc.to_csv(r'site_loc.csv')\n",
        "\n",
        "site_vel = pd.concat([Long, Lat, azimuth, scaled_mag],axis=1)\n",
        "site_vel.to_csv(r'site_vel.csv')\n",
        "\n",
        "site_strain_east = pd.concat([Long, Lat, strain_east],axis=1)\n",
        "site_strain_east.to_csv(r'site_strain_east.csv')\n",
        "\n",
        "site_strain_north = pd.concat([Long, Lat, strain_north],axis=1)\n",
        "site_strain_north.to_csv(r'site_strain_north.csv')\n",
        "\n",
        "site_strain_east_north = pd.concat([Long, Lat, strain_east_north],axis=1)\n",
        "site_strain_east_north.to_csv(r'site_strain_east_north.csv')\n",
        "\n",
        "site_shear_strain = pd.concat([Long, Lat, shear_strain_rate],axis=1)\n",
        "site_shear_strain.to_csv(r'site_shear_strain.csv')\n",
        "\n",
        "site_dilation = pd.concat([Long, Lat, dilation],axis=1)\n",
        "site_dilation.to_csv(r'site_dilation.csv')"
      ],
      "execution_count": null,
      "outputs": []
    },
    {
      "cell_type": "code",
      "metadata": {
        "id": "iSWN71_gEDjZ",
        "colab_type": "code",
        "colab": {},
        "outputId": "50a23377-e778-484c-a1d7-dd039a670ef5"
      },
      "source": [
        "Long_ = np.abs(np.random.rand(100))*20 + 75\n",
        "Lat_ = np.abs(np.random.rand(100))*20 + 20\n",
        "max(Lat_)"
      ],
      "execution_count": null,
      "outputs": [
        {
          "output_type": "execute_result",
          "data": {
            "text/plain": [
              "39.8279740835131"
            ]
          },
          "metadata": {
            "tags": []
          },
          "execution_count": 23
        }
      ]
    },
    {
      "cell_type": "code",
      "metadata": {
        "id": "b5_GRK31EDjc",
        "colab_type": "code",
        "colab": {}
      },
      "source": [
        "r = 6371 #in Km\n",
        "lat_0 = mean(Lat_)\n",
        "long_0 = mean(Long_)\n",
        "x = r*cos(Lat_)*(Long_-long_0)\n",
        "y = r*(Lat_-lat_0)\n",
        "\n",
        "strain_east_=strain_e(A_0,B_0,C_0,e_1,e_2,e_3,l_1,l_2,l_3,x,y)*1e9\n",
        "\n",
        "strain_north_=strain_n(A_0,B_0,C_0,e_1,e_2,e_3,l_1,l_2,l_3,x,y)*1e9\n",
        "\n",
        "strain_east_north_=strain_en(A_0,B_0,C_0,e_1,e_2,e_3,l_1,l_2,l_3,x,y)*1e9\n",
        "\n",
        "dilation_= strain_north_+strain_east_\n",
        "\n",
        "shear_strain_rate_ = np.sqrt(strain_east_north_**2+((strain_east_-strain_north_)**2)/4)"
      ],
      "execution_count": null,
      "outputs": []
    },
    {
      "cell_type": "code",
      "metadata": {
        "id": "PpC38TaLEDjf",
        "colab_type": "code",
        "colab": {},
        "outputId": "c9ce3834-836c-48f3-de77-efcbd49fe3f8"
      },
      "source": [
        "plt.figure(figsize=(20,20))\n",
        "ax = plt.scatter(Long_,Lat_,c = shear_strain_rate_)\n",
        "ax = plt.colorbar()\n",
        "plt.show()"
      ],
      "execution_count": null,
      "outputs": [
        {
          "output_type": "display_data",
          "data": {
            "image/png": "[encoded data removed]",
            "text/plain": [
              "<Figure size 1440x1440 with 2 Axes>"
            ]
          },
          "metadata": {
            "tags": []
          }
        }
      ]
    },
    {
      "cell_type": "code",
      "metadata": {
        "id": "j-_K9N6KEDji",
        "colab_type": "code",
        "colab": {}
      },
      "source": [
        "# Plot the contour\n",
        "\n",
        "h=0.02\n",
        "Lat_min, Lat_max = 22.5,30 #min(Lat_),max(Lat_)\n",
        "Long_min, Long_max =80,88 # min(Long_),max(Long_)\n",
        "Long_Long,Lat_Lat = np.meshgrid(np.arange(Long_min,Long_max,h),np.arange(Lat_min,Lat_max,h))\n",
        "\n",
        "r = 6371 #in Km\n",
        "lat_0 = mean(Lat_Lat.ravel())\n",
        "long_0 = mean(Long_Long.ravel())\n",
        "x = r*cos(Lat_Lat.ravel())*(Long_Long.ravel()-long_0)\n",
        "y = r*(Lat_Lat.ravel()-lat_0)\n",
        "\n",
        "strain_east_=strain_e(A_0,B_0,C_0,e_1,e_2,e_3,l_1,l_2,l_3,x,y)*1e9\n",
        "\n",
        "strain_north_=strain_n(A_0,B_0,C_0,e_1,e_2,e_3,l_1,l_2,l_3,x,y)*1e9\n",
        "\n",
        "strain_east_north_=strain_en(A_0,B_0,C_0,e_1,e_2,e_3,l_1,l_2,l_3,x,y)*1e9\n",
        "\n",
        "dilation_= strain_north_+strain_east_\n",
        "dilation_ = dilation_.reshape(Lat_Lat.shape)\n",
        "shear_strain_rate_ = np.sqrt(strain_east_north_**2+((strain_east_-strain_north_)**2)/4)\n",
        "shear_strain_rate_ = shear_strain_rate_.reshape(Lat_Lat.shape)"
      ],
      "execution_count": null,
      "outputs": []
    },
    {
      "cell_type": "code",
      "metadata": {
        "id": "gqU3MmkFEDjk",
        "colab_type": "code",
        "colab": {},
        "outputId": "23d7af6a-fc2f-49e1-ec0e-6a1f8e704cba"
      },
      "source": [
        "fig = plt.figure(figsize=(16,10))\n",
        "ax = plt.contourf(Long_Long,Lat_Lat,shear_strain_rate_,cmap = 'cool')\n",
        "ax= plt.colorbar()\n",
        "for i in range(0,len(Lat)):\n",
        "    plt.scatter(Long[i],Lat[i],label=site[i],s=200)\n",
        "plt.legend()\n",
        "plt.show()"
      ],
      "execution_count": null,
      "outputs": [
        {
          "output_type": "display_data",
          "data": {
            "image/png": "[encoded data removed]",
            "text/plain": [
              "<Figure size 1152x720 with 2 Axes>"
            ]
          },
          "metadata": {
            "tags": []
          }
        }
      ]
    }
  ]
}